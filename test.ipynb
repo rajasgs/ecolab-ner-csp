{
 "cells": [
  {
   "cell_type": "code",
   "execution_count": null,
   "id": "520b2d01-7d04-43d6-8b81-03b216280f20",
   "metadata": {},
   "outputs": [],
   "source": []
  },
  {
   "cell_type": "code",
   "execution_count": 2,
   "id": "e8af28f8-f646-40ef-98a5-837945f1f39b",
   "metadata": {
    "tags": []
   },
   "outputs": [],
   "source": [
    "import pandas as pd"
   ]
  },
  {
   "cell_type": "code",
   "execution_count": 3,
   "id": "d4e42d7c-15dd-4c26-8374-5ea3866c0825",
   "metadata": {},
   "outputs": [],
   "source": [
    "df = pd.read_csv('ver-2023-01_test.csv')"
   ]
  },
  {
   "cell_type": "code",
   "execution_count": 6,
   "id": "cdd41360-3bd1-4bac-9354-32ebad5f4e77",
   "metadata": {
    "tags": []
   },
   "outputs": [],
   "source": [
    "df1 = df.iloc[0:5]"
   ]
  },
  {
   "cell_type": "code",
   "execution_count": 7,
   "id": "bf80500d-50b5-4288-8216-02e237921fa4",
   "metadata": {
    "tags": []
   },
   "outputs": [
    {
     "data": {
      "text/html": [
       "<div>\n",
       "<style scoped>\n",
       "    .dataframe tbody tr th:only-of-type {\n",
       "        vertical-align: middle;\n",
       "    }\n",
       "\n",
       "    .dataframe tbody tr th {\n",
       "        vertical-align: top;\n",
       "    }\n",
       "\n",
       "    .dataframe thead th {\n",
       "        text-align: right;\n",
       "    }\n",
       "</style>\n",
       "<table border=\"1\" class=\"dataframe\">\n",
       "  <thead>\n",
       "    <tr style=\"text-align: right;\">\n",
       "      <th></th>\n",
       "      <th>NAME</th>\n",
       "      <th>ADDRESS</th>\n",
       "      <th>CITY</th>\n",
       "      <th>REGION</th>\n",
       "      <th>POSTAL</th>\n",
       "      <th>COUNTRY</th>\n",
       "      <th>NAME_RIGHT</th>\n",
       "      <th>ADDRESS_RIGHT</th>\n",
       "      <th>CITY_RIGHT</th>\n",
       "      <th>REGION_RIGHT</th>\n",
       "      <th>POSTAL_RIGHT</th>\n",
       "      <th>COUNTRY_RIGHT</th>\n",
       "      <th>PRED</th>\n",
       "    </tr>\n",
       "  </thead>\n",
       "  <tbody>\n",
       "    <tr>\n",
       "      <th>0</th>\n",
       "      <td>PIZZA HUT ELDORADO</td>\n",
       "      <td>AVENIDA REBOUÇAS, 3970</td>\n",
       "      <td>SÃO PAULO</td>\n",
       "      <td>SP</td>\n",
       "      <td>05402-600</td>\n",
       "      <td>BRA</td>\n",
       "      <td>PIZZA HUT ELDORADO</td>\n",
       "      <td>AVENIDA REBOUÇAS, 3970</td>\n",
       "      <td>SÃO PAULO</td>\n",
       "      <td>SP</td>\n",
       "      <td>05402-600</td>\n",
       "      <td>BRA</td>\n",
       "      <td>1</td>\n",
       "    </tr>\n",
       "    <tr>\n",
       "      <th>1</th>\n",
       "      <td>MOE'S</td>\n",
       "      <td>1326 TOWN CENTER DR</td>\n",
       "      <td>LAKELAND</td>\n",
       "      <td>FL</td>\n",
       "      <td>33803-7953</td>\n",
       "      <td>USA</td>\n",
       "      <td>MOES SOUTHWEST GRILL 404</td>\n",
       "      <td>1326 TOWN CENTER DR</td>\n",
       "      <td>LAKELAND</td>\n",
       "      <td>FL</td>\n",
       "      <td>33803-7953</td>\n",
       "      <td>USA</td>\n",
       "      <td>1</td>\n",
       "    </tr>\n",
       "    <tr>\n",
       "      <th>2</th>\n",
       "      <td>IBIS HOTEL</td>\n",
       "      <td>MOUNT TALBOT</td>\n",
       "      <td>DUBLIN 22</td>\n",
       "      <td>DB</td>\n",
       "      <td>D22 F903</td>\n",
       "      <td>IRL</td>\n",
       "      <td>MALDRON HOTEL NEWLANDS CROSS</td>\n",
       "      <td>1A EXIT NAAS ROAD EXIT NAAS ROAD</td>\n",
       "      <td>DUBLIN 22</td>\n",
       "      <td>DB</td>\n",
       "      <td>D22 V6Y6</td>\n",
       "      <td>IRL</td>\n",
       "      <td>0</td>\n",
       "    </tr>\n",
       "    <tr>\n",
       "      <th>3</th>\n",
       "      <td>RVR ENTERPRISES RAIPUR</td>\n",
       "      <td>SHARMA COMPLEX SHOP NO 4</td>\n",
       "      <td>RAIPUR</td>\n",
       "      <td>CHATTISGARH</td>\n",
       "      <td>493221</td>\n",
       "      <td>IND</td>\n",
       "      <td>RVR ENTERPRISES RAIPUR</td>\n",
       "      <td>SHARMA COMPLEX SHOP NO 4</td>\n",
       "      <td>RAIPUR</td>\n",
       "      <td>CHATTISGARH</td>\n",
       "      <td>493221</td>\n",
       "      <td>IND</td>\n",
       "      <td>1</td>\n",
       "    </tr>\n",
       "    <tr>\n",
       "      <th>4</th>\n",
       "      <td>ROYAL ORTHOPAEDIC HOSPITAL NHS</td>\n",
       "      <td>BRISTOL ROAD SOUTH  NORTHFIELD</td>\n",
       "      <td>BIRMINGHAM</td>\n",
       "      <td>WM</td>\n",
       "      <td>B31 2AQ</td>\n",
       "      <td>GBR</td>\n",
       "      <td>ROYAL ORTHOPAEDIC HOSPITAL NHS</td>\n",
       "      <td>BRISTOL ROAD SOUTH  NORTHFIELD</td>\n",
       "      <td>BIRMINGHAM</td>\n",
       "      <td>WM</td>\n",
       "      <td>B31 2AQ</td>\n",
       "      <td>GBR</td>\n",
       "      <td>1</td>\n",
       "    </tr>\n",
       "  </tbody>\n",
       "</table>\n",
       "</div>"
      ],
      "text/plain": [
       "                             NAME                         ADDRESS        CITY  \\\n",
       "0              PIZZA HUT ELDORADO        AVENIDA REBOUÇAS, 3970     SÃO PAULO   \n",
       "1                           MOE'S           1326 TOWN CENTER DR      LAKELAND   \n",
       "2                      IBIS HOTEL                    MOUNT TALBOT   DUBLIN 22   \n",
       "3          RVR ENTERPRISES RAIPUR      SHARMA COMPLEX SHOP NO 4        RAIPUR   \n",
       "4  ROYAL ORTHOPAEDIC HOSPITAL NHS  BRISTOL ROAD SOUTH  NORTHFIELD  BIRMINGHAM   \n",
       "\n",
       "        REGION      POSTAL COUNTRY                      NAME_RIGHT  \\\n",
       "0           SP   05402-600     BRA              PIZZA HUT ELDORADO   \n",
       "1           FL  33803-7953     USA        MOES SOUTHWEST GRILL 404   \n",
       "2           DB    D22 F903     IRL    MALDRON HOTEL NEWLANDS CROSS   \n",
       "3  CHATTISGARH      493221     IND          RVR ENTERPRISES RAIPUR   \n",
       "4           WM     B31 2AQ     GBR  ROYAL ORTHOPAEDIC HOSPITAL NHS   \n",
       "\n",
       "                      ADDRESS_RIGHT  CITY_RIGHT REGION_RIGHT POSTAL_RIGHT  \\\n",
       "0          AVENIDA REBOUÇAS, 3970     SÃO PAULO           SP    05402-600   \n",
       "1             1326 TOWN CENTER DR      LAKELAND           FL   33803-7953   \n",
       "2  1A EXIT NAAS ROAD EXIT NAAS ROAD   DUBLIN 22           DB     D22 V6Y6   \n",
       "3        SHARMA COMPLEX SHOP NO 4        RAIPUR  CHATTISGARH       493221   \n",
       "4    BRISTOL ROAD SOUTH  NORTHFIELD  BIRMINGHAM           WM      B31 2AQ   \n",
       "\n",
       "  COUNTRY_RIGHT  PRED  \n",
       "0           BRA     1  \n",
       "1           USA     1  \n",
       "2           IRL     0  \n",
       "3           IND     1  \n",
       "4           GBR     1  "
      ]
     },
     "execution_count": 7,
     "metadata": {},
     "output_type": "execute_result"
    }
   ],
   "source": [
    "df1"
   ]
  },
  {
   "cell_type": "code",
   "execution_count": 8,
   "id": "e956a504-1d5c-4483-a838-999992157866",
   "metadata": {
    "tags": []
   },
   "outputs": [],
   "source": [
    "df1.to_csv('ver-2023-01_test2.csv')"
   ]
  },
  {
   "cell_type": "code",
   "execution_count": null,
   "id": "4fad4b4e-7dff-4979-a363-3b3bec9f1e34",
   "metadata": {},
   "outputs": [],
   "source": []
  }
 ],
 "metadata": {
  "kernelspec": {
   "display_name": "Python 3 (ipykernel)",
   "language": "python",
   "name": "python3"
  },
  "language_info": {
   "codemirror_mode": {
    "name": "ipython",
    "version": 3
   },
   "file_extension": ".py",
   "mimetype": "text/x-python",
   "name": "python",
   "nbconvert_exporter": "python",
   "pygments_lexer": "ipython3",
   "version": "3.7.16"
  }
 },
 "nbformat": 4,
 "nbformat_minor": 5
}
