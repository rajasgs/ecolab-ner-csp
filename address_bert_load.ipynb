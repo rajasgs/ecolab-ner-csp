{
 "cells": [
  {
   "cell_type": "code",
   "execution_count": 12,
   "id": "ddb596c6-ccaf-48fe-bc91-927eb413db95",
   "metadata": {},
   "outputs": [
    {
     "data": {
      "text/plain": [
       "'\\nhttps://docs.google.com/spreadsheets/d/1JOK1mFmOZb1S3sf-6VDSkqlxZhc31OcAAXYv51823FE/edit#gid=0\\n\\nhttps://towardsdatascience.com/simple-transformers-named-entity-recognition-with-transformer-models-c04b9242a2a0\\n'"
      ]
     },
     "execution_count": 12,
     "metadata": {},
     "output_type": "execute_result"
    }
   ],
   "source": [
    "'''\n",
    "https://docs.google.com/spreadsheets/d/1JOK1mFmOZb1S3sf-6VDSkqlxZhc31OcAAXYv51823FE/edit#gid=0\n",
    "\n",
    "https://towardsdatascience.com/simple-transformers-named-entity-recognition-with-transformer-models-c04b9242a2a0\n",
    "'''"
   ]
  },
  {
   "cell_type": "code",
   "execution_count": 13,
   "id": "4d8d40f2-a2f1-4e03-b751-1a31b66132c6",
   "metadata": {},
   "outputs": [],
   "source": [
    "from simpletransformers.ner import NERModel,NERArgs"
   ]
  },
  {
   "cell_type": "code",
   "execution_count": 14,
   "id": "c43f5f16-69b6-4848-9fff-8b3cd87de392",
   "metadata": {},
   "outputs": [],
   "source": [
    "model = NERModel('bert', 'outputs/', use_cuda=False)"
   ]
  },
  {
   "cell_type": "code",
   "execution_count": 17,
   "id": "4f419bc2-229c-4447-a0fe-8b09ad07939b",
   "metadata": {},
   "outputs": [
    {
     "name": "stderr",
     "output_type": "stream",
     "text": [
      "100%|████████████████████████████████████████████████████████████████████████████████████████████████████████████████████████████████████████████████████████████████████████| 1/1 [00:00<00:00, 71.53it/s]\n",
      "Running Prediction: 100%|████████████████████████████████████████████████████████████████████████████████████████████████████████████████████████████████████████████████████| 1/1 [00:00<00:00,  7.82it/s]\n"
     ]
    }
   ],
   "source": [
    "prediction, model_output = model.predict([\"130-300 Spadina Road\"])"
   ]
  },
  {
   "cell_type": "code",
   "execution_count": 18,
   "id": "f18c6101-b9d1-4297-9a7e-f7299a4414cb",
   "metadata": {},
   "outputs": [
    {
     "data": {
      "text/plain": [
       "[[{'130-300': 'SUITE_NO'},\n",
       "  {'Spadina': 'STREET_NAME'},\n",
       "  {'Road': 'STREET_NAME'}]]"
      ]
     },
     "execution_count": 18,
     "metadata": {},
     "output_type": "execute_result"
    }
   ],
   "source": [
    "prediction"
   ]
  },
  {
   "cell_type": "code",
   "execution_count": null,
   "id": "0c1bfab5-0db1-4e3a-8a64-757bfb2116cd",
   "metadata": {},
   "outputs": [],
   "source": []
  },
  {
   "cell_type": "code",
   "execution_count": null,
   "id": "73a23702-3fa9-4ff7-b0d5-986b91221905",
   "metadata": {},
   "outputs": [],
   "source": []
  }
 ],
 "metadata": {
  "kernelspec": {
   "display_name": "Python 3 (ipykernel)",
   "language": "python",
   "name": "python3"
  },
  "language_info": {
   "codemirror_mode": {
    "name": "ipython",
    "version": 3
   },
   "file_extension": ".py",
   "mimetype": "text/x-python",
   "name": "python",
   "nbconvert_exporter": "python",
   "pygments_lexer": "ipython3",
   "version": "3.9.17"
  }
 },
 "nbformat": 4,
 "nbformat_minor": 5
}
