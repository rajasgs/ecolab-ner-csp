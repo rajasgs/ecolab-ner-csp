{
 "cells": [
  {
   "cell_type": "code",
   "execution_count": 52,
   "id": "72f7d7e9-59de-424f-afc6-e06a28f43d95",
   "metadata": {},
   "outputs": [],
   "source": [
    "# https://towardsdatascience.com/simple-transformers-named-entity-recognition-with-transformer-models-c04b9242a2a0"
   ]
  },
  {
   "cell_type": "code",
   "execution_count": null,
   "id": "d02048a4-a46c-43c3-aad9-ef96737df538",
   "metadata": {},
   "outputs": [],
   "source": []
  },
  {
   "cell_type": "code",
   "execution_count": 53,
   "id": "0efcee18-aada-4ca9-96fa-d2f996445d6e",
   "metadata": {},
   "outputs": [],
   "source": [
    "from sklearn.preprocessing import LabelEncoder\n",
    "from sklearn.model_selection import train_test_split\n",
    "from sklearn.metrics import accuracy_score"
   ]
  },
  {
   "cell_type": "code",
   "execution_count": 54,
   "id": "c34eaee1-d921-40e9-93e6-41968941ed63",
   "metadata": {},
   "outputs": [],
   "source": [
    "import pandas as pd\n",
    "data = pd.read_csv(\"address_training_bert_1.csv\",encoding=\"latin1\" )"
   ]
  },
  {
   "cell_type": "code",
   "execution_count": 55,
   "id": "2139ef1e-d890-4455-961f-651eec50ca09",
   "metadata": {},
   "outputs": [
    {
     "data": {
      "text/html": [
       "<div>\n",
       "<style scoped>\n",
       "    .dataframe tbody tr th:only-of-type {\n",
       "        vertical-align: middle;\n",
       "    }\n",
       "\n",
       "    .dataframe tbody tr th {\n",
       "        vertical-align: top;\n",
       "    }\n",
       "\n",
       "    .dataframe thead th {\n",
       "        text-align: right;\n",
       "    }\n",
       "</style>\n",
       "<table border=\"1\" class=\"dataframe\">\n",
       "  <thead>\n",
       "    <tr style=\"text-align: right;\">\n",
       "      <th></th>\n",
       "      <th>Sentence#</th>\n",
       "      <th>Word</th>\n",
       "      <th>Tag</th>\n",
       "    </tr>\n",
       "  </thead>\n",
       "  <tbody>\n",
       "    <tr>\n",
       "      <th>0</th>\n",
       "      <td>0</td>\n",
       "      <td>3944</td>\n",
       "      <td>HOUSE_NO</td>\n",
       "    </tr>\n",
       "    <tr>\n",
       "      <th>1</th>\n",
       "      <td>0</td>\n",
       "      <td>Ranch</td>\n",
       "      <td>STREET_NAME</td>\n",
       "    </tr>\n",
       "    <tr>\n",
       "      <th>2</th>\n",
       "      <td>0</td>\n",
       "      <td>Road</td>\n",
       "      <td>STREET_NAME</td>\n",
       "    </tr>\n",
       "    <tr>\n",
       "      <th>3</th>\n",
       "      <td>0</td>\n",
       "      <td>620</td>\n",
       "      <td>STREET_NAME</td>\n",
       "    </tr>\n",
       "    <tr>\n",
       "      <th>4</th>\n",
       "      <td>0</td>\n",
       "      <td>S</td>\n",
       "      <td>STREET_NAME</td>\n",
       "    </tr>\n",
       "    <tr>\n",
       "      <th>5</th>\n",
       "      <td>0</td>\n",
       "      <td>Bldg</td>\n",
       "      <td>SUITE_NO</td>\n",
       "    </tr>\n",
       "    <tr>\n",
       "      <th>6</th>\n",
       "      <td>0</td>\n",
       "      <td>G2</td>\n",
       "      <td>SUITE_NO</td>\n",
       "    </tr>\n",
       "    <tr>\n",
       "      <th>7</th>\n",
       "      <td>0</td>\n",
       "      <td>Ste</td>\n",
       "      <td>SUITE_NO</td>\n",
       "    </tr>\n",
       "    <tr>\n",
       "      <th>8</th>\n",
       "      <td>0</td>\n",
       "      <td>120</td>\n",
       "      <td>SUITE_NO</td>\n",
       "    </tr>\n",
       "    <tr>\n",
       "      <th>9</th>\n",
       "      <td>1</td>\n",
       "      <td>1650</td>\n",
       "      <td>HOUSE_NO</td>\n",
       "    </tr>\n",
       "    <tr>\n",
       "      <th>10</th>\n",
       "      <td>1</td>\n",
       "      <td>E</td>\n",
       "      <td>STREET_NAME</td>\n",
       "    </tr>\n",
       "    <tr>\n",
       "      <th>11</th>\n",
       "      <td>1</td>\n",
       "      <td>Randol</td>\n",
       "      <td>STREET_NAME</td>\n",
       "    </tr>\n",
       "    <tr>\n",
       "      <th>12</th>\n",
       "      <td>1</td>\n",
       "      <td>Mill</td>\n",
       "      <td>STREET_NAME</td>\n",
       "    </tr>\n",
       "    <tr>\n",
       "      <th>13</th>\n",
       "      <td>1</td>\n",
       "      <td>Rd</td>\n",
       "      <td>STREET_NAME</td>\n",
       "    </tr>\n",
       "    <tr>\n",
       "      <th>14</th>\n",
       "      <td>1</td>\n",
       "      <td>Bldg</td>\n",
       "      <td>SUITE_NO</td>\n",
       "    </tr>\n",
       "    <tr>\n",
       "      <th>15</th>\n",
       "      <td>1</td>\n",
       "      <td>5</td>\n",
       "      <td>SUITE_NO</td>\n",
       "    </tr>\n",
       "    <tr>\n",
       "      <th>16</th>\n",
       "      <td>2</td>\n",
       "      <td>3471</td>\n",
       "      <td>HOUSE_NO</td>\n",
       "    </tr>\n",
       "    <tr>\n",
       "      <th>17</th>\n",
       "      <td>2</td>\n",
       "      <td>N</td>\n",
       "      <td>STREET_NAME</td>\n",
       "    </tr>\n",
       "    <tr>\n",
       "      <th>18</th>\n",
       "      <td>2</td>\n",
       "      <td>Salida</td>\n",
       "      <td>STREET_NAME</td>\n",
       "    </tr>\n",
       "    <tr>\n",
       "      <th>19</th>\n",
       "      <td>2</td>\n",
       "      <td>St</td>\n",
       "      <td>STREET_NAME</td>\n",
       "    </tr>\n",
       "    <tr>\n",
       "      <th>20</th>\n",
       "      <td>2</td>\n",
       "      <td>Unit</td>\n",
       "      <td>SUITE_NO</td>\n",
       "    </tr>\n",
       "    <tr>\n",
       "      <th>21</th>\n",
       "      <td>2</td>\n",
       "      <td>10</td>\n",
       "      <td>SUITE_NO</td>\n",
       "    </tr>\n",
       "    <tr>\n",
       "      <th>22</th>\n",
       "      <td>3</td>\n",
       "      <td>630</td>\n",
       "      <td>HOUSE_NO</td>\n",
       "    </tr>\n",
       "    <tr>\n",
       "      <th>23</th>\n",
       "      <td>3</td>\n",
       "      <td>Flushing</td>\n",
       "      <td>STREET_NAME</td>\n",
       "    </tr>\n",
       "    <tr>\n",
       "      <th>24</th>\n",
       "      <td>3</td>\n",
       "      <td>Ave</td>\n",
       "      <td>STREET_NAME</td>\n",
       "    </tr>\n",
       "    <tr>\n",
       "      <th>25</th>\n",
       "      <td>3</td>\n",
       "      <td>Unit</td>\n",
       "      <td>SUITE_NO</td>\n",
       "    </tr>\n",
       "    <tr>\n",
       "      <th>26</th>\n",
       "      <td>3</td>\n",
       "      <td>44</td>\n",
       "      <td>SUITE_NO</td>\n",
       "    </tr>\n",
       "    <tr>\n",
       "      <th>27</th>\n",
       "      <td>4</td>\n",
       "      <td>4989</td>\n",
       "      <td>HOUSE_NO</td>\n",
       "    </tr>\n",
       "    <tr>\n",
       "      <th>28</th>\n",
       "      <td>4</td>\n",
       "      <td>S</td>\n",
       "      <td>STREET_NAME</td>\n",
       "    </tr>\n",
       "    <tr>\n",
       "      <th>29</th>\n",
       "      <td>4</td>\n",
       "      <td>Broadway</td>\n",
       "      <td>STREET_NAME</td>\n",
       "    </tr>\n",
       "  </tbody>\n",
       "</table>\n",
       "</div>"
      ],
      "text/plain": [
       "    Sentence#      Word          Tag\n",
       "0           0      3944     HOUSE_NO\n",
       "1           0     Ranch  STREET_NAME\n",
       "2           0      Road  STREET_NAME\n",
       "3           0       620  STREET_NAME\n",
       "4           0         S  STREET_NAME\n",
       "5           0      Bldg     SUITE_NO\n",
       "6           0        G2     SUITE_NO\n",
       "7           0       Ste     SUITE_NO\n",
       "8           0       120     SUITE_NO\n",
       "9           1      1650     HOUSE_NO\n",
       "10          1         E  STREET_NAME\n",
       "11          1    Randol  STREET_NAME\n",
       "12          1      Mill  STREET_NAME\n",
       "13          1        Rd  STREET_NAME\n",
       "14          1      Bldg     SUITE_NO\n",
       "15          1         5     SUITE_NO\n",
       "16          2      3471     HOUSE_NO\n",
       "17          2         N  STREET_NAME\n",
       "18          2    Salida  STREET_NAME\n",
       "19          2        St  STREET_NAME\n",
       "20          2      Unit     SUITE_NO\n",
       "21          2        10     SUITE_NO\n",
       "22          3       630     HOUSE_NO\n",
       "23          3  Flushing  STREET_NAME\n",
       "24          3       Ave  STREET_NAME\n",
       "25          3      Unit     SUITE_NO\n",
       "26          3        44     SUITE_NO\n",
       "27          4      4989     HOUSE_NO\n",
       "28          4         S  STREET_NAME\n",
       "29          4  Broadway  STREET_NAME"
      ]
     },
     "execution_count": 55,
     "metadata": {},
     "output_type": "execute_result"
    }
   ],
   "source": [
    "data.head(30)"
   ]
  },
  {
   "cell_type": "code",
   "execution_count": 56,
   "id": "966ed501-0b38-4e44-aa92-e42de0700e39",
   "metadata": {},
   "outputs": [],
   "source": [
    "data.rename(columns={\"Sentence#\":\"sentence_id\",\"Word\":\"words\",\"Tag\":\"labels\"}, inplace =True)"
   ]
  },
  {
   "cell_type": "code",
   "execution_count": 57,
   "id": "23ab32a3-39d3-454a-ac7e-efc07f092572",
   "metadata": {},
   "outputs": [],
   "source": [
    "data[\"labels\"] = data[\"labels\"].str.upper()"
   ]
  },
  {
   "cell_type": "code",
   "execution_count": 58,
   "id": "efe7cc04-69c3-4159-b21d-f9c4f5c41bb3",
   "metadata": {},
   "outputs": [],
   "source": [
    "X= data[[\"sentence_id\",\"words\"]]\n",
    "Y =data[\"labels\"]"
   ]
  },
  {
   "cell_type": "code",
   "execution_count": 59,
   "id": "174ae062-80ad-4aa8-9f88-91a594766327",
   "metadata": {},
   "outputs": [],
   "source": [
    "x_train, x_test, y_train, y_test = train_test_split(X,Y, test_size =0.2)"
   ]
  },
  {
   "cell_type": "code",
   "execution_count": 60,
   "id": "c61032e4-6818-4552-a176-5c543a5119bd",
   "metadata": {},
   "outputs": [],
   "source": [
    "#building up train data and test data\n",
    "train_data = pd.DataFrame({\"sentence_id\":x_train[\"sentence_id\"],\"words\":x_train[\"words\"],\"labels\":y_train})\n",
    "test_data = pd.DataFrame({\"sentence_id\":x_test[\"sentence_id\"],\"words\":x_test[\"words\"],\"labels\":y_test})"
   ]
  },
  {
   "cell_type": "code",
   "execution_count": 61,
   "id": "ca3c92e7-0fe0-4d6b-82cf-562294b8244c",
   "metadata": {},
   "outputs": [
    {
     "data": {
      "text/html": [
       "<div>\n",
       "<style scoped>\n",
       "    .dataframe tbody tr th:only-of-type {\n",
       "        vertical-align: middle;\n",
       "    }\n",
       "\n",
       "    .dataframe tbody tr th {\n",
       "        vertical-align: top;\n",
       "    }\n",
       "\n",
       "    .dataframe thead th {\n",
       "        text-align: right;\n",
       "    }\n",
       "</style>\n",
       "<table border=\"1\" class=\"dataframe\">\n",
       "  <thead>\n",
       "    <tr style=\"text-align: right;\">\n",
       "      <th></th>\n",
       "      <th>sentence_id</th>\n",
       "      <th>words</th>\n",
       "      <th>labels</th>\n",
       "    </tr>\n",
       "  </thead>\n",
       "  <tbody>\n",
       "    <tr>\n",
       "      <th>638</th>\n",
       "      <td>159</td>\n",
       "      <td>Zetland</td>\n",
       "      <td>STREET_NAME</td>\n",
       "    </tr>\n",
       "    <tr>\n",
       "      <th>403</th>\n",
       "      <td>101</td>\n",
       "      <td>Kolejowa</td>\n",
       "      <td>STREET_NAME</td>\n",
       "    </tr>\n",
       "    <tr>\n",
       "      <th>166</th>\n",
       "      <td>32</td>\n",
       "      <td>1750</td>\n",
       "      <td>HOUSE_NO</td>\n",
       "    </tr>\n",
       "    <tr>\n",
       "      <th>80</th>\n",
       "      <td>13</td>\n",
       "      <td>105</td>\n",
       "      <td>SUITE_NO</td>\n",
       "    </tr>\n",
       "    <tr>\n",
       "      <th>7</th>\n",
       "      <td>0</td>\n",
       "      <td>Ste</td>\n",
       "      <td>SUITE_NO</td>\n",
       "    </tr>\n",
       "    <tr>\n",
       "      <th>...</th>\n",
       "      <td>...</td>\n",
       "      <td>...</td>\n",
       "      <td>...</td>\n",
       "    </tr>\n",
       "    <tr>\n",
       "      <th>547</th>\n",
       "      <td>138</td>\n",
       "      <td>SE</td>\n",
       "      <td>STREET_NAME</td>\n",
       "    </tr>\n",
       "    <tr>\n",
       "      <th>375</th>\n",
       "      <td>91</td>\n",
       "      <td>Batai</td>\n",
       "      <td>STREET_NAME</td>\n",
       "    </tr>\n",
       "    <tr>\n",
       "      <th>101</th>\n",
       "      <td>17</td>\n",
       "      <td>NE</td>\n",
       "      <td>STREET_NAME</td>\n",
       "    </tr>\n",
       "    <tr>\n",
       "      <th>348</th>\n",
       "      <td>83</td>\n",
       "      <td>9</td>\n",
       "      <td>HOUSE_NO</td>\n",
       "    </tr>\n",
       "    <tr>\n",
       "      <th>481</th>\n",
       "      <td>124</td>\n",
       "      <td>344</td>\n",
       "      <td>HOUSE_NO</td>\n",
       "    </tr>\n",
       "  </tbody>\n",
       "</table>\n",
       "<p>631 rows × 3 columns</p>\n",
       "</div>"
      ],
      "text/plain": [
       "     sentence_id     words       labels\n",
       "638          159   Zetland  STREET_NAME\n",
       "403          101  Kolejowa  STREET_NAME\n",
       "166           32      1750     HOUSE_NO\n",
       "80            13       105     SUITE_NO\n",
       "7              0       Ste     SUITE_NO\n",
       "..           ...       ...          ...\n",
       "547          138        SE  STREET_NAME\n",
       "375           91     Batai  STREET_NAME\n",
       "101           17        NE  STREET_NAME\n",
       "348           83         9     HOUSE_NO\n",
       "481          124       344     HOUSE_NO\n",
       "\n",
       "[631 rows x 3 columns]"
      ]
     },
     "execution_count": 61,
     "metadata": {},
     "output_type": "execute_result"
    }
   ],
   "source": [
    "train_data"
   ]
  },
  {
   "cell_type": "code",
   "execution_count": 62,
   "id": "0a768c0f-734f-49d3-b28c-46b51acc77b0",
   "metadata": {},
   "outputs": [],
   "source": [
    "from simpletransformers.ner import NERModel,NERArgs\n",
    "# https://simpletransformers.ai/docs/ner-model/"
   ]
  },
  {
   "cell_type": "code",
   "execution_count": 63,
   "id": "cac5ef70-44e3-4beb-af08-52f2d8ec04c0",
   "metadata": {},
   "outputs": [
    {
     "data": {
      "text/plain": [
       "['HOUSE_NO', 'STREET_NAME', 'SUITE_NO']"
      ]
     },
     "execution_count": 63,
     "metadata": {},
     "output_type": "execute_result"
    }
   ],
   "source": [
    "label = data[\"labels\"].unique().tolist()\n",
    "label"
   ]
  },
  {
   "cell_type": "code",
   "execution_count": 64,
   "id": "0bac256f-3806-4da9-b1f1-d17b8e90b9ea",
   "metadata": {},
   "outputs": [],
   "source": [
    "args = NERArgs()\n",
    "args.num_train_epochs = 3\n",
    "args.learning_rate = 1e-4\n",
    "args.overwrite_output_dir =True\n",
    "args.train_batch_size = 16\n",
    "args.eval_batch_size = 16"
   ]
  },
  {
   "cell_type": "code",
   "execution_count": 65,
   "id": "6d7c0ff0-7700-4fc9-9da8-6c925450da1e",
   "metadata": {},
   "outputs": [
    {
     "name": "stderr",
     "output_type": "stream",
     "text": [
      "Some weights of BertForTokenClassification were not initialized from the model checkpoint at bert-base-cased and are newly initialized: ['classifier.weight', 'classifier.bias']\n",
      "You should probably TRAIN this model on a down-stream task to be able to use it for predictions and inference.\n"
     ]
    }
   ],
   "source": [
    "model = NERModel('bert', 'bert-base-cased',labels=label,args =args,  use_cuda=False)"
   ]
  },
  {
   "cell_type": "code",
   "execution_count": 66,
   "id": "1ddb2fd1-8870-4b83-b0a2-41cf9a32764c",
   "metadata": {},
   "outputs": [
    {
     "name": "stderr",
     "output_type": "stream",
     "text": [
      "100%|████████████████████████████████████████████████████████████████████████████████████████████████████████████████████████████████████████████████████████████████████████| 1/1 [00:00<00:00, 24.48it/s]\n",
      "Epoch 1 of 3:   0%|                                                                                                                                                                  | 0/3 [00:00<?, ?it/s]\n",
      "Running Epoch 0 of 3:   0%|                                                                                                                                                         | 0/12 [00:00<?, ?it/s]\u001b[A\n",
      "Epochs 0/3. Running Loss:    1.1693:   0%|                                                                                                                                          | 0/12 [00:01<?, ?it/s]\u001b[A\n",
      "Epochs 0/3. Running Loss:    1.1693:   8%|██████████▊                                                                                                                       | 1/12 [00:03<00:41,  3.74s/it]\u001b[A\n",
      "Epochs 0/3. Running Loss:    1.1746:   8%|██████████▊                                                                                                                       | 1/12 [00:05<00:41,  3.74s/it]\u001b[A\n",
      "Epochs 0/3. Running Loss:    1.1746:  17%|█████████████████████▋                                                                                                            | 2/12 [00:07<00:37,  3.77s/it]\u001b[A\n",
      "Epochs 0/3. Running Loss:    1.0328:  17%|█████████████████████▋                                                                                                            | 2/12 [00:08<00:37,  3.77s/it]\u001b[A\n",
      "Epochs 0/3. Running Loss:    1.0328:  25%|████████████████████████████████▌                                                                                                 | 3/12 [00:11<00:33,  3.68s/it]\u001b[A\n",
      "Epochs 0/3. Running Loss:    0.9631:  25%|████████████████████████████████▌                                                                                                 | 3/12 [00:12<00:33,  3.68s/it]\u001b[A\n",
      "Epochs 0/3. Running Loss:    0.9631:  33%|███████████████████████████████████████████▎                                                                                      | 4/12 [00:14<00:29,  3.65s/it]\u001b[A\n",
      "Epochs 0/3. Running Loss:    0.9768:  33%|███████████████████████████████████████████▎                                                                                      | 4/12 [00:15<00:29,  3.65s/it]\u001b[A\n",
      "Epochs 0/3. Running Loss:    0.9768:  42%|██████████████████████████████████████████████████████▏                                                                           | 5/12 [00:18<00:25,  3.61s/it]\u001b[A\n",
      "Epochs 0/3. Running Loss:    0.9674:  42%|██████████████████████████████████████████████████████▏                                                                           | 5/12 [00:19<00:25,  3.61s/it]\u001b[A\n",
      "Epochs 0/3. Running Loss:    0.9674:  50%|█████████████████████████████████████████████████████████████████                                                                 | 6/12 [00:22<00:22,  3.71s/it]\u001b[A\n",
      "Epochs 0/3. Running Loss:    0.8220:  50%|█████████████████████████████████████████████████████████████████                                                                 | 6/12 [00:23<00:22,  3.71s/it]\u001b[A\n",
      "Epochs 0/3. Running Loss:    0.8220:  58%|███████████████████████████████████████████████████████████████████████████▊                                                      | 7/12 [00:26<00:18,  3.76s/it]\u001b[A\n",
      "Epochs 0/3. Running Loss:    0.6949:  58%|███████████████████████████████████████████████████████████████████████████▊                                                      | 7/12 [00:27<00:18,  3.76s/it]\u001b[A\n",
      "Epochs 0/3. Running Loss:    0.6949:  67%|██████████████████████████████████████████████████████████████████████████████████████▋                                           | 8/12 [00:29<00:14,  3.72s/it]\u001b[A\n",
      "Epochs 0/3. Running Loss:    0.6632:  67%|██████████████████████████████████████████████████████████████████████████████████████▋                                           | 8/12 [00:30<00:14,  3.72s/it]\u001b[A\n",
      "Epochs 0/3. Running Loss:    0.6632:  75%|█████████████████████████████████████████████████████████████████████████████████████████████████▌                                | 9/12 [00:33<00:11,  3.85s/it]\u001b[A\n",
      "Epochs 0/3. Running Loss:    0.5957:  75%|█████████████████████████████████████████████████████████████████████████████████████████████████▌                                | 9/12 [00:35<00:11,  3.85s/it]\u001b[A\n",
      "Epochs 0/3. Running Loss:    0.5957:  83%|███████████████████████████████████████████████████████████████████████████████████████████████████████████▌                     | 10/12 [00:37<00:07,  3.93s/it]\u001b[A\n",
      "Epochs 0/3. Running Loss:    0.6996:  83%|███████████████████████████████████████████████████████████████████████████████████████████████████████████▌                     | 10/12 [00:39<00:07,  3.93s/it]\u001b[A\n",
      "Epochs 0/3. Running Loss:    0.6996:  92%|██████████████████████████████████████████████████████████████████████████████████████████████████████████████████████▎          | 11/12 [00:41<00:03,  3.97s/it]\u001b[A\n",
      "Epochs 0/3. Running Loss:    0.5614:  92%|██████████████████████████████████████████████████████████████████████████████████████████████████████████████████████▎          | 11/12 [00:43<00:03,  3.97s/it]\u001b[A\n",
      "Epochs 0/3. Running Loss:    0.5614: 100%|█████████████████████████████████████████████████████████████████████████████████████████████████████████████████████████████████| 12/12 [00:45<00:00,  3.78s/it]\u001b[A\n",
      "Epoch 2 of 3:  33%|███████████████████████████████████████████████████▎                                                                                                      | 1/3 [00:46<01:32, 46.44s/it]\n",
      "Running Epoch 1 of 3:   0%|                                                                                                                                                         | 0/12 [00:00<?, ?it/s]\u001b[A\n",
      "Epochs 1/3. Running Loss:    0.4612:   0%|                                                                                                                                          | 0/12 [00:01<?, ?it/s]\u001b[A\n",
      "Epochs 1/3. Running Loss:    0.4612:   8%|██████████▊                                                                                                                       | 1/12 [00:04<00:50,  4.56s/it]\u001b[A\n",
      "Epochs 1/3. Running Loss:    0.3392:   8%|██████████▊                                                                                                                       | 1/12 [00:05<00:50,  4.56s/it]\u001b[A\n",
      "Epochs 1/3. Running Loss:    0.3392:  17%|█████████████████████▋                                                                                                            | 2/12 [00:09<00:46,  4.64s/it]\u001b[A\n",
      "Epochs 1/3. Running Loss:    0.5323:  17%|█████████████████████▋                                                                                                            | 2/12 [00:10<00:46,  4.64s/it]\u001b[A\n",
      "Epochs 1/3. Running Loss:    0.5323:  25%|████████████████████████████████▌                                                                                                 | 3/12 [00:13<00:40,  4.50s/it]\u001b[A\n",
      "Epochs 1/3. Running Loss:    0.3713:  25%|████████████████████████████████▌                                                                                                 | 3/12 [00:14<00:40,  4.50s/it]\u001b[A\n",
      "Epochs 1/3. Running Loss:    0.3713:  33%|███████████████████████████████████████████▎                                                                                      | 4/12 [00:17<00:34,  4.35s/it]\u001b[A\n",
      "Epochs 1/3. Running Loss:    0.3469:  33%|███████████████████████████████████████████▎                                                                                      | 4/12 [00:19<00:34,  4.35s/it]\u001b[A\n",
      "Epochs 1/3. Running Loss:    0.3469:  42%|██████████████████████████████████████████████████████▏                                                                           | 5/12 [00:21<00:29,  4.22s/it]\u001b[A\n",
      "Epochs 1/3. Running Loss:    0.4215:  42%|██████████████████████████████████████████████████████▏                                                                           | 5/12 [00:23<00:29,  4.22s/it]\u001b[A\n",
      "Epochs 1/3. Running Loss:    0.4215:  50%|█████████████████████████████████████████████████████████████████                                                                 | 6/12 [00:25<00:24,  4.15s/it]\u001b[A\n",
      "Epochs 1/3. Running Loss:    0.1894:  50%|█████████████████████████████████████████████████████████████████                                                                 | 6/12 [00:27<00:24,  4.15s/it]\u001b[A\n",
      "Epochs 1/3. Running Loss:    0.1894:  58%|███████████████████████████████████████████████████████████████████████████▊                                                      | 7/12 [00:29<00:20,  4.13s/it]\u001b[A\n",
      "Epochs 1/3. Running Loss:    0.5506:  58%|███████████████████████████████████████████████████████████████████████████▊                                                      | 7/12 [00:31<00:20,  4.13s/it]\u001b[A\n",
      "Epochs 1/3. Running Loss:    0.5506:  67%|██████████████████████████████████████████████████████████████████████████████████████▋                                           | 8/12 [00:33<00:16,  4.13s/it]\u001b[A\n",
      "Epochs 1/3. Running Loss:    0.3101:  67%|██████████████████████████████████████████████████████████████████████████████████████▋                                           | 8/12 [00:35<00:16,  4.13s/it]\u001b[A\n",
      "Epochs 1/3. Running Loss:    0.3101:  75%|█████████████████████████████████████████████████████████████████████████████████████████████████▌                                | 9/12 [00:38<00:12,  4.18s/it]\u001b[A\n",
      "Epochs 1/3. Running Loss:    0.4235:  75%|█████████████████████████████████████████████████████████████████████████████████████████████████▌                                | 9/12 [00:39<00:12,  4.18s/it]\u001b[A\n",
      "Epochs 1/3. Running Loss:    0.4235:  83%|███████████████████████████████████████████████████████████████████████████████████████████████████████████▌                     | 10/12 [00:42<00:08,  4.19s/it]\u001b[A\n",
      "Epochs 1/3. Running Loss:    0.1818:  83%|███████████████████████████████████████████████████████████████████████████████████████████████████████████▌                     | 10/12 [00:43<00:08,  4.19s/it]\u001b[A\n",
      "Epochs 1/3. Running Loss:    0.1818:  92%|██████████████████████████████████████████████████████████████████████████████████████████████████████████████████████▎          | 11/12 [00:46<00:04,  4.17s/it]\u001b[A\n",
      "Epochs 1/3. Running Loss:    0.3071:  92%|██████████████████████████████████████████████████████████████████████████████████████████████████████████████████████▎          | 11/12 [00:47<00:04,  4.17s/it]\u001b[A\n",
      "Epochs 1/3. Running Loss:    0.3071: 100%|█████████████████████████████████████████████████████████████████████████████████████████████████████████████████████████████████| 12/12 [00:49<00:00,  4.17s/it]\u001b[A\n",
      "Epoch 3 of 3:  67%|██████████████████████████████████████████████████████████████████████████████████████████████████████▋                                                   | 2/3 [01:37<00:49, 49.11s/it]\n",
      "Running Epoch 2 of 3:   0%|                                                                                                                                                         | 0/12 [00:00<?, ?it/s]\u001b[A\n",
      "Epochs 2/3. Running Loss:    0.2246:   0%|                                                                                                                                          | 0/12 [00:02<?, ?it/s]\u001b[A\n",
      "Epochs 2/3. Running Loss:    0.2246:   8%|██████████▊                                                                                                                       | 1/12 [00:04<00:52,  4.74s/it]\u001b[A\n",
      "Epochs 2/3. Running Loss:    0.2156:   8%|██████████▊                                                                                                                       | 1/12 [00:06<00:52,  4.74s/it]\u001b[A\n",
      "Epochs 2/3. Running Loss:    0.2156:  17%|█████████████████████▋                                                                                                            | 2/12 [00:08<00:43,  4.35s/it]\u001b[A\n",
      "Epochs 2/3. Running Loss:    0.1438:  17%|█████████████████████▋                                                                                                            | 2/12 [00:10<00:43,  4.35s/it]\u001b[A\n",
      "Epochs 2/3. Running Loss:    0.1438:  25%|████████████████████████████████▌                                                                                                 | 3/12 [00:12<00:38,  4.25s/it]\u001b[A\n",
      "Epochs 2/3. Running Loss:    0.2434:  25%|████████████████████████████████▌                                                                                                 | 3/12 [00:14<00:38,  4.25s/it]\u001b[A\n",
      "Epochs 2/3. Running Loss:    0.2434:  33%|███████████████████████████████████████████▎                                                                                      | 4/12 [00:16<00:33,  4.15s/it]\u001b[A\n",
      "Epochs 2/3. Running Loss:    0.1586:  33%|███████████████████████████████████████████▎                                                                                      | 4/12 [00:18<00:33,  4.15s/it]\u001b[A\n",
      "Epochs 2/3. Running Loss:    0.1586:  42%|██████████████████████████████████████████████████████▏                                                                           | 5/12 [00:20<00:28,  4.11s/it]\u001b[A\n",
      "Epochs 2/3. Running Loss:    0.2529:  42%|██████████████████████████████████████████████████████▏                                                                           | 5/12 [00:22<00:28,  4.11s/it]\u001b[A\n",
      "Epochs 2/3. Running Loss:    0.2529:  50%|█████████████████████████████████████████████████████████████████                                                                 | 6/12 [00:25<00:24,  4.10s/it]\u001b[A\n",
      "Epochs 2/3. Running Loss:    0.1843:  50%|█████████████████████████████████████████████████████████████████                                                                 | 6/12 [00:26<00:24,  4.10s/it]\u001b[A\n",
      "Epochs 2/3. Running Loss:    0.1843:  58%|███████████████████████████████████████████████████████████████████████████▊                                                      | 7/12 [00:29<00:20,  4.11s/it]\u001b[A\n",
      "Epochs 2/3. Running Loss:    0.2327:  58%|███████████████████████████████████████████████████████████████████████████▊                                                      | 7/12 [00:30<00:20,  4.11s/it]\u001b[A\n",
      "Epochs 2/3. Running Loss:    0.2327:  67%|██████████████████████████████████████████████████████████████████████████████████████▋                                           | 8/12 [00:33<00:16,  4.10s/it]\u001b[A\n",
      "Epochs 2/3. Running Loss:    0.1992:  67%|██████████████████████████████████████████████████████████████████████████████████████▋                                           | 8/12 [00:34<00:16,  4.10s/it]\u001b[A\n",
      "Epochs 2/3. Running Loss:    0.1992:  75%|█████████████████████████████████████████████████████████████████████████████████████████████████▌                                | 9/12 [00:37<00:12,  4.17s/it]\u001b[A\n",
      "Epochs 2/3. Running Loss:    0.2243:  75%|█████████████████████████████████████████████████████████████████████████████████████████████████▌                                | 9/12 [00:39<00:12,  4.17s/it]\u001b[A\n",
      "Epochs 2/3. Running Loss:    0.2243:  83%|███████████████████████████████████████████████████████████████████████████████████████████████████████████▌                     | 10/12 [00:42<00:08,  4.25s/it]\u001b[A\n",
      "Epochs 2/3. Running Loss:    0.1609:  83%|███████████████████████████████████████████████████████████████████████████████████████████████████████████▌                     | 10/12 [00:43<00:08,  4.25s/it]\u001b[A\n",
      "Epochs 2/3. Running Loss:    0.1609:  92%|██████████████████████████████████████████████████████████████████████████████████████████████████████████████████████▎          | 11/12 [00:46<00:04,  4.18s/it]\u001b[A\n",
      "Epochs 2/3. Running Loss:    0.4450:  92%|██████████████████████████████████████████████████████████████████████████████████████████████████████████████████████▎          | 11/12 [00:47<00:04,  4.18s/it]\u001b[A\n",
      "Epochs 2/3. Running Loss:    0.4450: 100%|█████████████████████████████████████████████████████████████████████████████████████████████████████████████████████████████████| 12/12 [00:49<00:00,  4.13s/it]\u001b[A\n",
      "Epoch 3 of 3: 100%|██████████████████████████████████████████████████████████████████████████████████████████████████████████████████████████████████████████████████████████| 3/3 [02:27<00:00, 49.33s/it]\n"
     ]
    },
    {
     "data": {
      "text/plain": [
       "(36, 0.4844694265888797)"
      ]
     },
     "execution_count": 66,
     "metadata": {},
     "output_type": "execute_result"
    }
   ],
   "source": [
    "model.train_model(\n",
    "    train_data,\n",
    "    eval_data = test_data,\n",
    "    acc=accuracy_score,\n",
    "    # output_dir='grocery_model'\n",
    ")"
   ]
  },
  {
   "cell_type": "code",
   "execution_count": 67,
   "id": "d1a1fb31-d1b1-4bd9-95e1-fcb2dce9f47d",
   "metadata": {},
   "outputs": [
    {
     "name": "stderr",
     "output_type": "stream",
     "text": [
      "100%|████████████████████████████████████████████████████████████████████████████████████████████████████████████████████████████████████████████████████████████████████████| 1/1 [00:00<00:00, 47.23it/s]\n",
      "Running Evaluation: 100%|████████████████████████████████████████████████████████████████████████████████████████████████████████████████████████████████████████████████████| 8/8 [00:09<00:00,  1.17s/it]\n",
      "/home/rajaraman/miniconda3/envs/dl39/lib/python3.9/site-packages/seqeval/metrics/sequence_labeling.py:171: UserWarning: STREET_NAME seems not to be NE tag.\n",
      "  warnings.warn('{} seems not to be NE tag.'.format(chunk))\n",
      "/home/rajaraman/miniconda3/envs/dl39/lib/python3.9/site-packages/seqeval/metrics/sequence_labeling.py:171: UserWarning: HOUSE_NO seems not to be NE tag.\n",
      "  warnings.warn('{} seems not to be NE tag.'.format(chunk))\n",
      "/home/rajaraman/miniconda3/envs/dl39/lib/python3.9/site-packages/seqeval/metrics/sequence_labeling.py:171: UserWarning: SUITE_NO seems not to be NE tag.\n",
      "  warnings.warn('{} seems not to be NE tag.'.format(chunk))\n"
     ]
    }
   ],
   "source": [
    "result, model_outputs, preds_list = model.eval_model(test_data)"
   ]
  },
  {
   "cell_type": "code",
   "execution_count": 68,
   "id": "a78ba0bb-1995-4180-a85d-af2281077d9f",
   "metadata": {},
   "outputs": [
    {
     "data": {
      "text/plain": [
       "{'eval_loss': 0.3541808146983385,\n",
       " 'precision': 0.8343949044585988,\n",
       " 'recall': 0.8291139240506329,\n",
       " 'f1_score': 0.8317460317460317}"
      ]
     },
     "execution_count": 68,
     "metadata": {},
     "output_type": "execute_result"
    }
   ],
   "source": [
    "result"
   ]
  },
  {
   "cell_type": "code",
   "execution_count": 50,
   "id": "1942fc53-c8f6-4ae6-a197-e9d3d213c154",
   "metadata": {},
   "outputs": [
    {
     "name": "stderr",
     "output_type": "stream",
     "text": [
      "100%|████████████████████████████████████████████████████████████████████████████████████████████████████████████████████████████████████████████████████████████████████████| 1/1 [00:00<00:00, 80.28it/s]\n",
      "Running Prediction: 100%|████████████████████████████████████████████████████████████████████████████████████████████████████████████████████████████████████████████████████| 1/1 [00:00<00:00, 12.50it/s]\n"
     ]
    }
   ],
   "source": [
    "prediction, model_output = model.predict([\"254 Spadina Road\"])"
   ]
  },
  {
   "cell_type": "code",
   "execution_count": 51,
   "id": "b0137a58-e8cc-4433-93d9-fb2370a7150e",
   "metadata": {},
   "outputs": [
    {
     "data": {
      "text/plain": [
       "[[{'254': 'STREET_NAME'}, {'Spadina': 'STREET_NAME'}, {'Road': 'STREET_NAME'}]]"
      ]
     },
     "execution_count": 51,
     "metadata": {},
     "output_type": "execute_result"
    }
   ],
   "source": [
    "prediction"
   ]
  },
  {
   "cell_type": "code",
   "execution_count": null,
   "id": "b3b40941-335c-4890-aa80-bbd302770cfd",
   "metadata": {},
   "outputs": [],
   "source": []
  }
 ],
 "metadata": {
  "kernelspec": {
   "display_name": "Python 3 (ipykernel)",
   "language": "python",
   "name": "python3"
  },
  "language_info": {
   "codemirror_mode": {
    "name": "ipython",
    "version": 3
   },
   "file_extension": ".py",
   "mimetype": "text/x-python",
   "name": "python",
   "nbconvert_exporter": "python",
   "pygments_lexer": "ipython3",
   "version": "3.9.17"
  }
 },
 "nbformat": 4,
 "nbformat_minor": 5
}
