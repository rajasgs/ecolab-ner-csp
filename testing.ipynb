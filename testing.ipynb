{
 "cells": [
  {
   "cell_type": "code",
   "execution_count": 11,
   "id": "4fadef1d-7407-4528-80b0-ab1d72b27693",
   "metadata": {},
   "outputs": [],
   "source": [
    "# https://syndigo-my.sharepoint.com/:x:/p/raja_raman/EbBFts3WUk9Pr8cF5fxPUPQB0g7L7y7ZHn5S8Xoj3maFtg?e=czutVa"
   ]
  },
  {
   "cell_type": "code",
   "execution_count": 12,
   "id": "0b257c7b-e853-40b7-847e-d2d3b038b108",
   "metadata": {},
   "outputs": [],
   "source": [
    "import pandas as pd"
   ]
  },
  {
   "cell_type": "code",
   "execution_count": 13,
   "id": "32f06939-4856-4767-aae7-0307395a1141",
   "metadata": {},
   "outputs": [],
   "source": [
    "FILEPATH = \"~/datasets/Address-Pattern-NER-20240305-1.xlsx\""
   ]
  },
  {
   "cell_type": "code",
   "execution_count": 14,
   "id": "04f45aab-612a-42bd-b7ae-58c529dcd67c",
   "metadata": {},
   "outputs": [],
   "source": [
    "# Replace 'path_to_file.xlsx' with the path to your Excel file\n",
    "df = pd.read_excel(FILEPATH, sheet_name='base', engine='openpyxl', header = 1)"
   ]
  },
  {
   "cell_type": "code",
   "execution_count": 15,
   "id": "b7128c2d-4593-4fb5-a79e-b88ac2628953",
   "metadata": {},
   "outputs": [
    {
     "data": {
      "text/html": [
       "<div>\n",
       "<style scoped>\n",
       "    .dataframe tbody tr th:only-of-type {\n",
       "        vertical-align: middle;\n",
       "    }\n",
       "\n",
       "    .dataframe tbody tr th {\n",
       "        vertical-align: top;\n",
       "    }\n",
       "\n",
       "    .dataframe thead th {\n",
       "        text-align: right;\n",
       "    }\n",
       "</style>\n",
       "<table border=\"1\" class=\"dataframe\">\n",
       "  <thead>\n",
       "    <tr style=\"text-align: right;\">\n",
       "      <th></th>\n",
       "      <th>pattern index</th>\n",
       "      <th>address</th>\n",
       "      <th>street_name</th>\n",
       "      <th>house_no</th>\n",
       "      <th>suite_no</th>\n",
       "    </tr>\n",
       "  </thead>\n",
       "  <tbody>\n",
       "    <tr>\n",
       "      <th>0</th>\n",
       "      <td>NaN</td>\n",
       "      <td>3 jalan radin bagus</td>\n",
       "      <td>jalan radin bagus</td>\n",
       "      <td>3</td>\n",
       "      <td>NaN</td>\n",
       "    </tr>\n",
       "    <tr>\n",
       "      <th>1</th>\n",
       "      <td>5.0</td>\n",
       "      <td>2492 / 68 trenčianska</td>\n",
       "      <td>trenčianska</td>\n",
       "      <td>2492</td>\n",
       "      <td>68</td>\n",
       "    </tr>\n",
       "    <tr>\n",
       "      <th>2</th>\n",
       "      <td>1.0</td>\n",
       "      <td>34 sylvester ave</td>\n",
       "      <td>sylvester ave</td>\n",
       "      <td>34</td>\n",
       "      <td>NaN</td>\n",
       "    </tr>\n",
       "    <tr>\n",
       "      <th>3</th>\n",
       "      <td>2.0</td>\n",
       "      <td>nový domov příspěvková organizace</td>\n",
       "      <td>nový domov příspěvková organizace</td>\n",
       "      <td>NaN</td>\n",
       "      <td>NaN</td>\n",
       "    </tr>\n",
       "    <tr>\n",
       "      <th>4</th>\n",
       "      <td>3.0</td>\n",
       "      <td>18 - 20 siltasaarenkatu</td>\n",
       "      <td>siltasaarenkatu</td>\n",
       "      <td>18</td>\n",
       "      <td>20</td>\n",
       "    </tr>\n",
       "  </tbody>\n",
       "</table>\n",
       "</div>"
      ],
      "text/plain": [
       "   pattern index                            address  \\\n",
       "0            NaN                3 jalan radin bagus   \n",
       "1            5.0              2492 / 68 trenčianska   \n",
       "2            1.0                   34 sylvester ave   \n",
       "3            2.0  nový domov příspěvková organizace   \n",
       "4            3.0            18 - 20 siltasaarenkatu   \n",
       "\n",
       "                         street_name house_no suite_no  \n",
       "0                  jalan radin bagus        3      NaN  \n",
       "1                        trenčianska     2492       68  \n",
       "2                      sylvester ave       34      NaN  \n",
       "3  nový domov příspěvková organizace      NaN      NaN  \n",
       "4                    siltasaarenkatu       18       20  "
      ]
     },
     "execution_count": 15,
     "metadata": {},
     "output_type": "execute_result"
    }
   ],
   "source": [
    "df.head()"
   ]
  },
  {
   "cell_type": "code",
   "execution_count": 16,
   "id": "dec4711b-999d-4615-a116-4effc71eb7b4",
   "metadata": {},
   "outputs": [
    {
     "data": {
      "text/plain": [
       "39"
      ]
     },
     "execution_count": 16,
     "metadata": {},
     "output_type": "execute_result"
    }
   ],
   "source": [
    "len(df)"
   ]
  },
  {
   "cell_type": "code",
   "execution_count": null,
   "id": "f5fa2fca-c38f-4fec-8b10-e345c53ad9e0",
   "metadata": {},
   "outputs": [],
   "source": []
  },
  {
   "cell_type": "code",
   "execution_count": null,
   "id": "a9459ea4-7fe3-4847-b5b9-4adfd70453d1",
   "metadata": {},
   "outputs": [],
   "source": []
  }
 ],
 "metadata": {
  "kernelspec": {
   "display_name": "Python 3 (ipykernel)",
   "language": "python",
   "name": "python3"
  },
  "language_info": {
   "codemirror_mode": {
    "name": "ipython",
    "version": 3
   },
   "file_extension": ".py",
   "mimetype": "text/x-python",
   "name": "python",
   "nbconvert_exporter": "python",
   "pygments_lexer": "ipython3",
   "version": "3.9.18"
  }
 },
 "nbformat": 4,
 "nbformat_minor": 5
}
