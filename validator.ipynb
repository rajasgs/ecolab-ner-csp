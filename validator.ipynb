{
 "cells": [
  {
   "cell_type": "code",
   "execution_count": 24,
   "id": "659abe9f-0de7-400e-bafb-1a8b51ba34fa",
   "metadata": {
    "tags": []
   },
   "outputs": [],
   "source": [
    "import pandas as pd"
   ]
  },
  {
   "cell_type": "code",
   "execution_count": null,
   "id": "79fa0b21-42ad-4128-b702-325cddadcd75",
   "metadata": {},
   "outputs": [],
   "source": []
  },
  {
   "cell_type": "code",
   "execution_count": 25,
   "id": "6a153840-8bff-48a8-9026-25f4aee20ac2",
   "metadata": {
    "tags": []
   },
   "outputs": [],
   "source": [
    "df = pd.read_csv('validator.csv')"
   ]
  },
  {
   "cell_type": "code",
   "execution_count": 26,
   "id": "e7abbfdd-ee6d-45d6-9aa0-a6b8a0555196",
   "metadata": {
    "tags": []
   },
   "outputs": [
    {
     "data": {
      "text/html": [
       "<div>\n",
       "<style scoped>\n",
       "    .dataframe tbody tr th:only-of-type {\n",
       "        vertical-align: middle;\n",
       "    }\n",
       "\n",
       "    .dataframe tbody tr th {\n",
       "        vertical-align: top;\n",
       "    }\n",
       "\n",
       "    .dataframe thead th {\n",
       "        text-align: right;\n",
       "    }\n",
       "</style>\n",
       "<table border=\"1\" class=\"dataframe\">\n",
       "  <thead>\n",
       "    <tr style=\"text-align: right;\">\n",
       "      <th></th>\n",
       "      <th>address</th>\n",
       "      <th>street_name_original</th>\n",
       "      <th>house_no_original</th>\n",
       "      <th>suite_no_original</th>\n",
       "      <th>street_name_predicted</th>\n",
       "      <th>house_no_predicted</th>\n",
       "      <th>suite_no_predicted</th>\n",
       "      <th>predicted_right</th>\n",
       "    </tr>\n",
       "  </thead>\n",
       "  <tbody>\n",
       "    <tr>\n",
       "      <th>0</th>\n",
       "      <td>Lamb Station 006</td>\n",
       "      <td>Lamb Station</td>\n",
       "      <td>6</td>\n",
       "      <td>None</td>\n",
       "      <td>Lamb Station</td>\n",
       "      <td>6.0</td>\n",
       "      <td>NaN</td>\n",
       "      <td>1.0</td>\n",
       "    </tr>\n",
       "    <tr>\n",
       "      <th>1</th>\n",
       "      <td>Michael Turnpike 881</td>\n",
       "      <td>Michael Turnpike</td>\n",
       "      <td>881</td>\n",
       "      <td>None</td>\n",
       "      <td>Michael Turnpike</td>\n",
       "      <td>881.0</td>\n",
       "      <td>NaN</td>\n",
       "      <td>1.0</td>\n",
       "    </tr>\n",
       "    <tr>\n",
       "      <th>2</th>\n",
       "      <td>Jacob Walks 2575</td>\n",
       "      <td>Jacob Walks</td>\n",
       "      <td>2575</td>\n",
       "      <td>None</td>\n",
       "      <td>Jacob Walks</td>\n",
       "      <td>2575.0</td>\n",
       "      <td>NaN</td>\n",
       "      <td>1.0</td>\n",
       "    </tr>\n",
       "    <tr>\n",
       "      <th>3</th>\n",
       "      <td>Roberts Gardens 048</td>\n",
       "      <td>Roberts Gardens</td>\n",
       "      <td>48</td>\n",
       "      <td>None</td>\n",
       "      <td>Roberts Gardens</td>\n",
       "      <td>48.0</td>\n",
       "      <td>NaN</td>\n",
       "      <td>1.0</td>\n",
       "    </tr>\n",
       "  </tbody>\n",
       "</table>\n",
       "</div>"
      ],
      "text/plain": [
       "                address street_name_original  house_no_original  \\\n",
       "0      Lamb Station 006         Lamb Station                  6   \n",
       "1  Michael Turnpike 881     Michael Turnpike                881   \n",
       "2      Jacob Walks 2575          Jacob Walks               2575   \n",
       "3   Roberts Gardens 048      Roberts Gardens                 48   \n",
       "\n",
       "  suite_no_original street_name_predicted  house_no_predicted  \\\n",
       "0              None          Lamb Station                 6.0   \n",
       "1              None      Michael Turnpike               881.0   \n",
       "2              None           Jacob Walks              2575.0   \n",
       "3              None       Roberts Gardens                48.0   \n",
       "\n",
       "   suite_no_predicted  predicted_right  \n",
       "0                 NaN              1.0  \n",
       "1                 NaN              1.0  \n",
       "2                 NaN              1.0  \n",
       "3                 NaN              1.0  "
      ]
     },
     "execution_count": 26,
     "metadata": {},
     "output_type": "execute_result"
    }
   ],
   "source": [
    "df"
   ]
  },
  {
   "cell_type": "code",
   "execution_count": null,
   "id": "0fd24667-4f07-4dca-97ff-3b1c0553ea47",
   "metadata": {},
   "outputs": [],
   "source": []
  },
  {
   "cell_type": "code",
   "execution_count": null,
   "id": "a0bca270-b2dd-42e4-8833-d1eb6ea03371",
   "metadata": {},
   "outputs": [],
   "source": []
  }
 ],
 "metadata": {
  "kernelspec": {
   "display_name": "Python 3 (ipykernel)",
   "language": "python",
   "name": "python3"
  },
  "language_info": {
   "codemirror_mode": {
    "name": "ipython",
    "version": 3
   },
   "file_extension": ".py",
   "mimetype": "text/x-python",
   "name": "python",
   "nbconvert_exporter": "python",
   "pygments_lexer": "ipython3",
   "version": "3.7.16"
  }
 },
 "nbformat": 4,
 "nbformat_minor": 5
}
